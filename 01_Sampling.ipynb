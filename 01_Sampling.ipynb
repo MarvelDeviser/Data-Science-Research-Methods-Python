{
 "cells": [
  {
   "cell_type": "code",
   "execution_count": 1,
   "metadata": {},
   "outputs": [],
   "source": [
    "# Set seed- initializes random number generation to be same on different computers\n",
    "\n",
    "import numpy.random as nr\n",
    "nr.seed(12345)"
   ]
  },
  {
   "cell_type": "code",
   "execution_count": 2,
   "metadata": {},
   "outputs": [
    {
     "data": {
      "text/plain": [
       "array([ 9.59058468, 10.95788668,  8.96112257,  8.88853939, 13.93156115,\n",
       "       12.78681167, 10.18581575, 10.56349231, 11.53804514, 12.49286947,\n",
       "       12.01437872,  7.40755778, 10.54998327, 10.45782576, 12.70583367,\n",
       "       11.77285868,  5.99672538,  9.25631493, 13.33805062,  9.12286053,\n",
       "        8.92051711, 10.95397002, 16.49788784,  7.95754495,  8.84582539,\n",
       "       10.24824255, 10.60522712, 11.04754414, 10.00188056, 12.68761959,\n",
       "        8.57291203,  8.33769292,  5.25953669,  6.27847842,  8.2784852 ,\n",
       "       11.12029059,  7.46813102, 10.23965425,  7.8729751 , 10.66576543,\n",
       "        5.28116239,  9.60091409,  6.91600894,  8.05852818,  7.3859395 ,\n",
       "       10.57269949, 10.75596822,  8.49222693, 10.6625713 , 12.69948443])"
      ]
     },
     "execution_count": 2,
     "metadata": {},
     "output_type": "execute_result"
    }
   ],
   "source": [
    "# Generate normally distrubuted random sample w/ 50 responses from a population, w/ mean= 10, & std dev= 2.\n",
    " # normal(mean, std, n)\n",
    "\n",
    "nr.normal(10, 2, 50)"
   ]
  },
  {
   "cell_type": "code",
   "execution_count": 3,
   "metadata": {},
   "outputs": [
    {
     "data": {
      "text/plain": [
       "array([0, 1, 0, 0, 0, 0, 0, 0, 0, 1, 1, 0, 0, 0, 0, 1, 1, 0, 1, 0, 0, 0,\n",
       "       0, 0, 0, 0, 0, 1, 0, 0, 1, 1, 0, 0, 0, 0, 1, 0, 0, 0, 0, 0, 0, 0,\n",
       "       0, 1, 0, 0, 1, 1])"
      ]
     },
     "execution_count": 3,
     "metadata": {},
     "output_type": "execute_result"
    }
   ],
   "source": [
    "# Above- Numpy array w/ normally distributed values returned.\n",
    "\n",
    "# Below- Generate bionomial distribution random sample w/ 50 responses from a population, w/ 30% people liking product (1) & 70% not not (0).\n",
    " # binomial(n, prob, size=1)\n",
    "    # prob argument- represents likelihood of getting 1 as opposed to 0.\n",
    "    # size argument- changes nature of distribution\n",
    "    \n",
    "nr.seed(3344)\n",
    "nr.binomial(1, 0.3, 50)"
   ]
  },
  {
   "cell_type": "code",
   "execution_count": 4,
   "metadata": {},
   "outputs": [],
   "source": [
    "# Above- 1= someone who likes product & 0= someone who does not like product\n",
    "\n",
    "# Below- This time I will save the result.\n",
    "\n",
    "nr.seed(3344)\n",
    "sample1 = nr.binomial(1, 0.3, 50)"
   ]
  },
  {
   "cell_type": "code",
   "execution_count": 5,
   "metadata": {},
   "outputs": [
    {
     "name": "stdout",
     "output_type": "stream",
     "text": [
      "[[ 0 37]\n",
      " [ 1 13]]\n"
     ]
    }
   ],
   "source": [
    "# Examine how well our sample did. We specified that parameter (population value= 30%).\n",
    " # How close did we get?\n",
    "    \n",
    "from scipy import stats\n",
    "print(stats.itemfreq(sample1))"
   ]
  },
  {
   "cell_type": "code",
   "execution_count": 6,
   "metadata": {},
   "outputs": [
    {
     "data": {
      "text/plain": [
       "0.26"
      ]
     },
     "execution_count": 6,
     "metadata": {},
     "output_type": "execute_result"
    }
   ],
   "source": [
    "# Above- There are 13 likes & 37 dislikes.\n",
    "\n",
    "# Below- Convert that to percentages.\n",
    "\n",
    "13.0/(13.0 + 37.0)"
   ]
  },
  {
   "cell_type": "code",
   "execution_count": 7,
   "metadata": {},
   "outputs": [
    {
     "data": {
      "text/plain": [
       "0.26"
      ]
     },
     "execution_count": 7,
     "metadata": {},
     "output_type": "execute_result"
    }
   ],
   "source": [
    "# Above- Our sample underestimate # of people who like product w/ 26% instead of 30%.\n",
    "\n",
    "# Below- We can also trick the math into returning a proportion by using mean() from Numpy.\n",
    "\n",
    "import numpy as np\n",
    "np.mean(sample1)"
   ]
  },
  {
   "cell_type": "code",
   "execution_count": 8,
   "metadata": {},
   "outputs": [
    {
     "name": "stdout",
     "output_type": "stream",
     "text": [
      "0.3\n",
      "0.28\n",
      "0.3\n",
      "0.28\n",
      "0.4\n",
      "0.26\n"
     ]
    }
   ],
   "source": [
    "# Let's try random sampling several different times to see if there is a difference.\n",
    "\n",
    "print(np.mean(nr.binomial(1, 0.3, 50)))\n",
    "print(np.mean(nr.binomial(1, 0.3, 50)))\n",
    "print(np.mean(nr.binomial(1, 0.3, 50)))\n",
    "print(np.mean(nr.binomial(1, 0.3, 50)))\n",
    "print(np.mean(nr.binomial(1, 0.3, 50)))\n",
    "print(np.mean(nr.binomial(1, 0.3, 50)))"
   ]
  },
  {
   "cell_type": "code",
   "execution_count": 10,
   "metadata": {},
   "outputs": [
    {
     "name": "stdout",
     "output_type": "stream",
     "text": [
      "[0.28, 0.34, 0.2, 0.34, 0.34, 0.26, 0.3, 0.2, 0.18, 0.28, 0.24, 0.34, 0.28, 0.28, 0.22, 0.22, 0.34, 0.26, 0.26, 0.28, 0.24, 0.24, 0.36, 0.22, 0.22, 0.24, 0.38, 0.24, 0.18, 0.3, 0.28, 0.3, 0.24, 0.3, 0.34, 0.26, 0.38, 0.24, 0.28, 0.22, 0.36, 0.24, 0.38, 0.28, 0.24, 0.38, 0.26, 0.3, 0.3, 0.44, 0.26, 0.3, 0.34, 0.32, 0.32, 0.38, 0.36, 0.34, 0.18, 0.22, 0.32, 0.3, 0.32, 0.32, 0.24, 0.32, 0.32, 0.22, 0.24, 0.14, 0.26, 0.38, 0.38, 0.28, 0.18, 0.34, 0.24, 0.32, 0.24, 0.34, 0.36, 0.32, 0.36, 0.28, 0.24, 0.26, 0.14, 0.52, 0.28, 0.32, 0.22, 0.24, 0.32, 0.22, 0.26, 0.24, 0.32, 0.28, 0.26, 0.28]\n"
     ]
    }
   ],
   "source": [
    "# Above- Samples vary quite a bit. \n",
    "\n",
    "# Below- Let's try this again w/ 100 times by using a list comprehension.\n",
    "\n",
    "results = [np.mean(nr.binomial(1, 0.3, 50)) for _ in range(100)]\n",
    "print(results)"
   ]
  },
  {
   "cell_type": "code",
   "execution_count": 11,
   "metadata": {},
   "outputs": [
    {
     "data": {
      "text/plain": [
       "Text(0.5,1,'Histogram of Results')"
      ]
     },
     "execution_count": 11,
     "metadata": {},
     "output_type": "execute_result"
    },
    {
     "data": {
      "image/png": "[encoded data removed]",
      "text/plain": [
       "<matplotlib.figure.Figure at 0x2a2d9201b38>"
      ]
     },
     "metadata": {},
     "output_type": "display_data"
    }
   ],
   "source": [
    "# Above- Again considerable variance in these results.\n",
    "\n",
    "# Below- Let's take a look them in a histogram.\n",
    "\n",
    "%matplotlib inline\n",
    "\n",
    "sample_mean = np.mean(results)\n",
    "import matplotlib.pyplot as plt\n",
    "plt.hist(results)\n",
    "plt.vlines(0.3, 0.0, 28.0, color= 'red')\n",
    "plt.vlines(sample_mean, 0.0, 28.0, color= 'black')\n",
    "plt.xlabel('Results')\n",
    "plt.ylabel('Frequency')\n",
    "plt.title('Histogram of Results')"
   ]
  },
  {
   "cell_type": "code",
   "execution_count": 13,
   "metadata": {},
   "outputs": [
    {
     "name": "stdout",
     "output_type": "stream",
     "text": [
      "[-0.02, 0.04, -0.1, 0.04, 0.04, -0.04, 0.0, -0.1, -0.12, -0.02, -0.06, 0.04, -0.02, -0.02, -0.08, -0.08, 0.04, -0.04, -0.04, -0.02, -0.06, -0.06, 0.06, -0.08, -0.08, -0.06, 0.08, -0.06, -0.12, 0.0, -0.02, 0.0, -0.06, 0.0, 0.04, -0.04, 0.08, -0.06, -0.02, -0.08, 0.06, -0.06, 0.08, -0.02, -0.06, 0.08, -0.04, 0.0, 0.0, 0.14, -0.04, 0.0, 0.04, 0.02, 0.02, 0.08, 0.06, 0.04, -0.12, -0.08, 0.02, 0.0, 0.02, 0.02, -0.06, 0.02, 0.02, -0.08, -0.06, -0.16, -0.04, 0.08, 0.08, -0.02, -0.12, 0.04, -0.06, 0.02, -0.06, 0.04, 0.06, 0.02, 0.06, -0.02, -0.06, -0.04, -0.16, 0.22, -0.02, 0.02, -0.08, -0.06, 0.02, -0.08, -0.04, -0.06, 0.02, -0.02, -0.04, -0.02]\n"
     ]
    }
   ],
   "source": [
    "# Above- On average, random samples are trustworthy, tending toward 30%.\n",
    " # However, individual samples are less trustworthy. Some results are nearly as large as 135% or as low as 50%.\n",
    "    \n",
    "# Below- We can also subtract 0.30 from each acore to re-score them as the degree of error in each sample.\n",
    "\n",
    "results_error = [round(x - 0.3, 2) for x in results]\n",
    "print(results_error)"
   ]
  },
  {
   "cell_type": "code",
   "execution_count": 14,
   "metadata": {},
   "outputs": [
    {
     "data": {
      "text/plain": [
       "0.06284075110945125"
      ]
     },
     "execution_count": 14,
     "metadata": {},
     "output_type": "execute_result"
    }
   ],
   "source": [
    "# Above- Most sample scores are within ~5% of true population value. Depending on what we are going to do w/ data, that could be unacceptably large.\n",
    " # Sampling error- property of sample to \"mis-estimate\" the population. It is a big problem, leading to many a bad decision.\n",
    " # We want to estimate degree to which individual samples tend to \"mis-estimate\" the population (results-error)\n",
    "\n",
    "# Below- We can quantify this by taking the standard deviation of these errors (Standard error).\n",
    " # This provides a single number & shows how far \"off\" our samples tend to be, on average.\n",
    "    \n",
    "np.std(results_error)"
   ]
  },
  {
   "cell_type": "code",
   "execution_count": 15,
   "metadata": {},
   "outputs": [
    {
     "name": "stdout",
     "output_type": "stream",
     "text": [
      "0.016947764887851068\n"
     ]
    },
    {
     "data": {
      "text/plain": [
       "Text(0.5,1,'Histogram of results')"
      ]
     },
     "execution_count": 15,
     "metadata": {},
     "output_type": "execute_result"
    },
    {
     "data": {
      "image/png": "[encoded data removed]",
      "text/plain": [
       "<matplotlib.figure.Figure at 0x2a2d9d32be0>"
      ]
     },
     "metadata": {},
     "output_type": "display_data"
    }
   ],
   "source": [
    "# Above- Typical sample will be off by only 1.7% from population value.\n",
    "\n",
    "# Below- Run a similiar loop as done before & see in action w/ larger set of responses.\n",
    "\n",
    "results = [np.mean(nr.binomial(1, 0.3, 700)) for _ in range(100)]\n",
    "\n",
    "print(np.std(results))\n",
    "\n",
    "sample_mean = np.mean(results)\n",
    "import matplotlib.pyplot as plt\n",
    "plt.hist(results)\n",
    "plt.vlines(0.3, 0.0, 28.0, color = 'red')\n",
    "plt.vlines(sample_mean, 0.0, 28.0, color = 'black')\n",
    "plt.xlabel('Results') \n",
    "plt.ylabel('Frequency')\n",
    "plt.title('Histogram of results')"
   ]
  },
  {
   "cell_type": "code",
   "execution_count": null,
   "metadata": {},
   "outputs": [],
   "source": [
    "# Above- Most results between 82% & 112%, w/ typical result being \"off\" by only 1.7% ... exactly as our standard error equation predicted.\n",
    "\n",
    "# Summary-\n",
    " # Every data situation has a standard error. \n",
    " # Samples (& the statistics they produce) are flawed estimates of population.\n",
    "  # However, they become more & more accurate as the sample sizes they are based on increase.\n",
    " # This gives us concept of statistical power\n",
    "  # Large samples will produce results strong enough that we can make meaningful statements about population (\"good power\"),\n",
    "   # where samll samples contain so much error that we cannot say anything meaningful about population (\"weak power\").   "
   ]
  }
 ],
 "metadata": {
  "kernelspec": {
   "display_name": "Python 3",
   "language": "python",
   "name": "python3"
  },
  "language_info": {
   "codemirror_mode": {
    "name": "ipython",
    "version": 3
   },
   "file_extension": ".py",
   "mimetype": "text/x-python",
   "name": "python",
   "nbconvert_exporter": "python",
   "pygments_lexer": "ipython3",
   "version": "3.6.4"
  }
 },
 "nbformat": 4,
 "nbformat_minor": 2
}
