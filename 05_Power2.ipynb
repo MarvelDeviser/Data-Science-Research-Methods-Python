{
 "cells": [
  {
   "cell_type": "code",
   "execution_count": 2,
   "metadata": {},
   "outputs": [],
   "source": [
    "## Sample Size Planning Illustration\n",
    "  # Practice using tt_ind_solve_power from python statsmodels.stats.power package for determining minimum necessary sample size for 2-sample t-test design.\n",
    "   # Illustrated using real-life iterative project planning sequence to see how pwer planning can be integrated into a data science research project.\n",
    "\n",
    "#Import/load package:\n",
    "\n",
    "from statsmodels.stats.power import tt_ind_solve_power"
   ]
  },
  {
   "cell_type": "code",
   "execution_count": 3,
   "metadata": {},
   "outputs": [
    {
     "data": {
      "text/plain": [
       "2102.44476680053"
      ]
     },
     "execution_count": 3,
     "metadata": {},
     "output_type": "execute_result"
    }
   ],
   "source": [
    "# Compare groups at 2 different location in organization to see if either group is more satisfied w/ their working conditions.\n",
    " # Compare w/ t-test & care deeply about estimating effect, even if it is small.\n",
    " # Data response will be difficult, but manager will ask employees to return surveys.\n",
    " # What is minimum necessary sample size to get adequate power?\n",
    "    \n",
    "# What sample size would be required? (90% pwer to detect very small effect size d= 0.10)\n",
    "\n",
    "tt_ind_solve_power(effect_size=0.1, nobs1 = None, alpha=0.05, power=0.9, ratio=1, alternative='two-sided')"
   ]
  },
  {
   "cell_type": "code",
   "execution_count": 4,
   "metadata": {},
   "outputs": [
    {
     "data": {
      "text/plain": [
       "252.1275051543411"
      ]
     },
     "execution_count": 4,
     "metadata": {},
     "output_type": "execute_result"
    }
   ],
   "source": [
    "# Above- Need 2103 people per group, or 4206 people in total. This is out of the question knowing the size of organization.\n",
    " # Might get away with maybe collecting data from 500 participants w/out imposing too much on team supervisors.\n",
    "    \n",
    "# Try again w/ more realistic 80% power & mid-range-small effect of d= 0.25.\n",
    "\n",
    "tt_ind_solve_power(effect_size=0.25, nobs1 = None, alpha=0.05, power=0.8, ratio=1, alternative='two-sided')"
   ]
  },
  {
   "cell_type": "code",
   "execution_count": 5,
   "metadata": {},
   "outputs": [
    {
     "data": {
      "text/plain": [
       "0.28083522542893885"
      ]
     },
     "execution_count": 5,
     "metadata": {},
     "output_type": "execute_result"
    }
   ],
   "source": [
    "# Above- Get 253 people per group (round up to ensure n is adequate). \n",
    "  # Taken to supervisor, they said they will try for larger sample size but 400 is max they are likely to get.\n",
    "\n",
    "# Below- Re-run w/ effect size left out & input n= 200 (per group) & 80% power.\n",
    "\n",
    "tt_ind_solve_power(effect_size=None, nobs1 = 200, alpha=0.05, power=0.8, ratio=1, alternative='two-sided')"
   ]
  },
  {
   "cell_type": "code",
   "execution_count": 6,
   "metadata": {},
   "outputs": [
    {
     "data": {
      "text/plain": [
       "[0.07895538929132649,\n",
       " 0.16948092445426557,\n",
       " 0.32174707632764465,\n",
       " 0.5140816347005528,\n",
       " 0.703333297940797,\n",
       " 0.8491491055035358,\n",
       " 0.9371867266873937,\n",
       " 0.9788403128661938,\n",
       " 0.9942830780694515,\n",
       " 0.9987688466795083]"
      ]
     },
     "execution_count": 6,
     "metadata": {},
     "output_type": "execute_result"
    }
   ],
   "source": [
    "# Above- With 80% power to detect effects as small as d= 0.28, which is mid-range small effect.\n",
    "\n",
    "# Below- Run a loop to estimate power at that sample size for various effect sizes.\n",
    "\n",
    "d_values = [x/100.0 for x in range(5,55,5)] # Need range to 55 since Python is zero based indexing\n",
    "\n",
    "powers = [tt_ind_solve_power(effect_size=d, nobs1 = 200, alpha=0.05, power=None, ratio=1, alternative='two-sided')\n",
    "            for d in d_values]\n",
    "powers"
   ]
  },
  {
   "cell_type": "code",
   "execution_count": 7,
   "metadata": {},
   "outputs": [
    {
     "data": {
      "text/plain": [
       "0.9091290568795592"
      ]
     },
     "execution_count": 7,
     "metadata": {},
     "output_type": "execute_result"
    }
   ],
   "source": [
    "# Above- Power really starts to drop off around d= 0.20, hitting ~51%.\n",
    " # Can conclude ok w/ a 50% chance of declaring \"no difference\" if effect is that small.\n",
    "    \n",
    "# Below- Heard original proposal had been to collect 40 responses, 20 from each site.\n",
    "\n",
    "tt_ind_solve_power(effect_size=None, nobs1 = 20, alpha=0.05, power=0.8, ratio=1, alternative='two-sided')"
   ]
  },
  {
   "cell_type": "code",
   "execution_count": 8,
   "metadata": {},
   "outputs": [
    {
     "data": {
      "text/plain": [
       "0.12033536754525204"
      ]
     },
     "execution_count": 8,
     "metadata": {},
     "output_type": "execute_result"
    }
   ],
   "source": [
    "# Above- Power analysis shows 91% as smallest effect size for good power which is well into \"large\" range.\n",
    "\n",
    "# Below- What if effects were small? What are odds the study would even be able to pick them up? Try d= 0.25\n",
    "\n",
    "tt_ind_solve_power(effect_size=.25, nobs1 = 20, alpha=0.05, power=None, ratio=1, alternative='two-sided')"
   ]
  },
  {
   "cell_type": "code",
   "execution_count": null,
   "metadata": {},
   "outputs": [],
   "source": [
    "#Above- Study would have 12 % power. Yikes, good thing a power analysis was performed!"
   ]
  }
 ],
 "metadata": {
  "kernelspec": {
   "display_name": "Python 3",
   "language": "python",
   "name": "python3"
  },
  "language_info": {
   "codemirror_mode": {
    "name": "ipython",
    "version": 3
   },
   "file_extension": ".py",
   "mimetype": "text/x-python",
   "name": "python",
   "nbconvert_exporter": "python",
   "pygments_lexer": "ipython3",
   "version": "3.6.4"
  }
 },
 "nbformat": 4,
 "nbformat_minor": 2
}
