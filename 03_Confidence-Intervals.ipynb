{
 "cells": [
  {
   "cell_type": "code",
   "execution_count": 1,
   "metadata": {},
   "outputs": [
    {
     "data": {
      "text/plain": [
       "2.234095719379859"
      ]
     },
     "execution_count": 1,
     "metadata": {},
     "output_type": "execute_result"
    }
   ],
   "source": [
    "## Confidence Intervals\n",
    "  # Confidence interval- takes your sample result & puts it at center of a ranged estimate, due to sample result error as an imperfect estimate of population.\n",
    "\n",
    "# Example using data from previous lab (p-Values)\n",
    "\n",
    "import pandas as pd\n",
    "import numpy as np\n",
    "attitude = np.array(pd.read_csv('Attitude.csv'))[:, 1]\n",
    "np.mean(attitude)"
   ]
  },
  {
   "cell_type": "code",
   "execution_count": 2,
   "metadata": {},
   "outputs": [
    {
     "name": "stdout",
     "output_type": "stream",
     "text": [
      "Results of one-sample two-sided t test\n",
      "Mean         = 2.234\n",
      "t-Statistic  = 10.725\n",
      "p-value      < 2.881e-18\n",
      "On degrees of freedom =   99\n",
      "Confidence Intervals for alpha =0.05\n",
      "Lower =  1.729 Upper = 2.739\n"
     ]
    }
   ],
   "source": [
    "# Remember that sample average= 2.23 from a scale of -5 to +5. This was clearly in positive range & it was significant, meaning null hypothesis was rejected (null hypthosis =  0 in population, smaple result a fluke due to chance).\n",
    "\n",
    "# Remember, a 95% confidence interval of sample data was also calulated\n",
    "\n",
    "from scipy import stats\n",
    "def t_one_sample(samp, mu = 0.0, alpha = 0.05):\n",
    "    '''Function for two-sided one-sample t test'''\n",
    "    t_stat = stats.ttest_1samp(samp, mu)\n",
    "    scale = np.std(samp)\n",
    "    loc = np.mean(samp)\n",
    "    ci = stats.t.cdf(alpha/2, len(samp), loc=mu, scale=scale)\n",
    "    print('Results of one-sample two-sided t test')\n",
    "    print('Mean         = %4.3f' % loc)\n",
    "    print('t-Statistic  = %4.3f' % t_stat[0])\n",
    "    print('p-value      < %4.3e' % t_stat[1])\n",
    "    print('On degrees of freedom = %4d' % (len(samp) - 1))\n",
    "    print('Confidence Intervals for alpha =' + str(alpha))\n",
    "    print('Lower =  %4.3f Upper = %4.3f' % (loc - ci, loc + ci))\n",
    "    \n",
    "t_one_sample(attitude)    "
   ]
  },
  {
   "cell_type": "code",
   "execution_count": null,
   "metadata": {},
   "outputs": [],
   "source": [
    "# Above- Population average is somewhere in range from 1.729 to 2.739, calculated from sample data w/ 95% confidence.\n",
    " # Written as -- 95% CI [1.73, 2.74]\n",
    " # CI both rejects the null & tells you where the population value likely is (Mid-range positive).\n",
    " # Can quantify exactly how much certainty we have in the result.\n",
    " # Confidence Interval = xbar +/- std error * (constant)\n",
    "  # Constant- \"critical value\" for t-test"
   ]
  }
 ],
 "metadata": {
  "kernelspec": {
   "display_name": "Python 3",
   "language": "python",
   "name": "python3"
  },
  "language_info": {
   "codemirror_mode": {
    "name": "ipython",
    "version": 3
   },
   "file_extension": ".py",
   "mimetype": "text/x-python",
   "name": "python",
   "nbconvert_exporter": "python",
   "pygments_lexer": "ipython3",
   "version": "3.6.4"
  }
 },
 "nbformat": 4,
 "nbformat_minor": 2
}
